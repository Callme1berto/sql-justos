{
  "nbformat": 4,
  "nbformat_minor": 0,
  "metadata": {
    "colab": {
      "provenance": [],
      "authorship_tag": "ABX9TyN44rh9baSIyLxfV6pF1v0z",
      "include_colab_link": true
    },
    "kernelspec": {
      "name": "python3",
      "display_name": "Python 3"
    },
    "language_info": {
      "name": "python"
    }
  },
  "cells": [
    {
      "cell_type": "markdown",
      "metadata": {
        "id": "view-in-github",
        "colab_type": "text"
      },
      "source": [
        "<a href=\"https://colab.research.google.com/github/Callme1berto/sql-justos/blob/main/sql_questions_justos.ipynb\" target=\"_parent\"><img src=\"https://colab.research.google.com/assets/colab-badge.svg\" alt=\"Open In Colab\"/></a>"
      ]
    },
    {
      "cell_type": "code",
      "execution_count": null,
      "metadata": {
        "colab": {
          "base_uri": "https://localhost:8080/",
          "height": 140
        },
        "id": "pvbyAz5ogIkd",
        "outputId": "3676d3ab-bade-47d4-bf7c-bb9cb42f336e"
      },
      "outputs": [
        {
          "output_type": "error",
          "ename": "SyntaxError",
          "evalue": "ignored",
          "traceback": [
            "\u001b[0;36m  File \u001b[0;32m\"<ipython-input-7-e24a9d1125f8>\"\u001b[0;36m, line \u001b[0;32m1\u001b[0m\n\u001b[0;31m    -- 1 - Given table T_A with a varchar field “Customer_ID”, write a script that gives you the values of \"Customer_ID\" that are non-unique. --\u001b[0m\n\u001b[0m                                                ^\u001b[0m\n\u001b[0;31mSyntaxError\u001b[0m\u001b[0;31m:\u001b[0m invalid character '“' (U+201C)\n"
          ]
        }
      ],
      "source": [
        "-- 1 - Given table T_A with a varchar field “Customer_ID”, write a script that gives you the values of \"Customer_ID\" that are non-unique.\n",
        "select\n",
        "customer_id\n",
        "\n",
        "from\n",
        "T_A\n",
        "\n",
        "group by --For this script I used \"Group By\" to group the \"Customer_ID\" field\n",
        "customer_id\n",
        "\n",
        "having\n",
        "count(*) > 1; --Then I used \"Having\" to select the groups (Customer_ID in this case) where \"Count\" is greater than 1\n",
        "\n",
        "\n",
        "\n",
        "\n",
        "-- 2 Given tables T_A and T_B, both with a varchar field “Customer_ID”, write a script that finds the elements in T_A that are not in T_B\n",
        "select\n",
        "Customer_ID\n",
        "\n",
        "from\n",
        "T_A\n",
        "left join T_B on T_A.customer_ID = T_B.customer_ID --For this script I applied \"Left Join\" between tables T_A and T_B on the \"Customer_ID\" field, so it will include all rows from T_A and the matching rows from T_B and the matching rows from T_B, filling in \"Null\" values for non-matching rows in T_B.\n",
        "\n",
        "WHERE\n",
        "T_B.customer_ID is null --The \"Customer_id\" rows in T_A that are not in T_B are \"Null\". So \"Where\" here brings the rows where \"Customer_ID\" in the T_B is \"Null\".\n",
        "\n",
        "\n",
        "--UNFINISHED\n",
        "-- 3. Given table T_A that has fields “Customer_ID”, “Claim_type”, “Claim_value”, “Claim_timestamp” write a script that creates a new table, T_A_last10, where you store the sum-total of the last 10 paid claims (“Claim_value”>0) for each customer and claim type.--\n",
        "create the T_A_last10 table\n",
        "create T_A_last10 as\n",
        "select\n",
        "customer_id,\n",
        "claim_type,\n",
        "SUM(Claim_value) AS TotalClaimValue\n",
        "\n",
        "from (\n",
        "    select\n",
        "        customer_ID,\n",
        "        claim_type,\n",
        "        claim_value,\n",
        "\n",
        "\n",
        "\n",
        "--UNFINISHED\n",
        "-- 4.Given table T_A that has fields “Customer_ID”, “Claim_type”, “Claim_value”, “Claim_timestamp” write a script that creates a new table, T_A_Claim_Value_With_Trend, that adds a new field representing the percentage increase/decrease in claim value compared to the preceding one for each customer and claim type.--\n",
        "create table T_A_claim_value_with_trend AS\n",
        "SELECT\n",
        "    Customer_ID,\n",
        "    Claim_type,\n",
        "    Claim_value,\n",
        "    Claim_timestamp,\n",
        "\n",
        "\n",
        "    from\n",
        "    T_A;\n",
        "\n",
        "UNFINISHED\n",
        "--5.Given table T_A that has fields “Customer_ID”, “Trip_Score”, “Trip_km”, “Trip_timestamp” write a script that creates a new table, “T_A_Trip_Score_Rolling_Average_Last80km”, that adds a new field named “Score_RAvg_Last80km” representing the distance-weighted average score for the last 80 km the user has driven up to (and including) the last trip, rounded to second decimal point.\n",
        "-- Create the T_A_Trip_Score_Rolling_Average_Last80km table\n",
        "create table T_A_Trip_Score_Rolling_Average_Last80km as\n",
        "select\n",
        "customer_ID,\n",
        "trip_Score,\n",
        "trip_km,\n",
        "trip_timestamp,"
      ]
    },
    {
      "cell_type": "code",
      "source": [],
      "metadata": {
        "id": "lFmc2zNjhkkv"
      },
      "execution_count": null,
      "outputs": []
    }
  ]
}